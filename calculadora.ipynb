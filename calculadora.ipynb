{
  "nbformat": 4,
  "nbformat_minor": 0,
  "metadata": {
    "colab": {
      "provenance": [],
      "authorship_tag": "ABX9TyPT4C1aXLtfdO3Cn/uWmIt3"
    },
    "kernelspec": {
      "name": "python3",
      "display_name": "Python 3"
    },
    "language_info": {
      "name": "python"
    }
  },
  "cells": [
    {
      "cell_type": "code",
      "execution_count": null,
      "metadata": {
        "id": "yrVPDiEAILc5"
      },
      "outputs": [],
      "source": [
        "class Calculadora():\n",
        "\n",
        "  def soma(self, numero1, numero2):\n",
        "    print(numero1 + numero2)\n",
        "\n",
        "  def subtrai(self, numero1, numero2):\n",
        "    print(numero1 -+ numero2)\n"
      ]
    },
    {
      "cell_type": "code",
      "source": [
        "# Instanciando\n",
        "calc = Calculadora()\n"
      ],
      "metadata": {
        "id": "KhsEKfEdUJjS"
      },
      "execution_count": null,
      "outputs": []
    },
    {
      "cell_type": "code",
      "source": [
        "calc.soma(10, 5)\n",
        "calc.subtrai(10, 5)"
      ],
      "metadata": {
        "colab": {
          "base_uri": "https://localhost:8080/"
        },
        "id": "res7bZOMUPG7",
        "outputId": "3e59cb65-83e1-4773-e22f-a8ef9f7ebe85"
      },
      "execution_count": null,
      "outputs": [
        {
          "output_type": "stream",
          "name": "stdout",
          "text": [
            "15\n",
            "5\n"
          ]
        }
      ]
    }
  ]
}