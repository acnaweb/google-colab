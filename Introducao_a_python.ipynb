{
  "nbformat": 4,
  "nbformat_minor": 0,
  "metadata": {
    "colab": {
      "provenance": [],
      "authorship_tag": "ABX9TyNnim5S2eR0fvkzMqwUpT00"
    },
    "kernelspec": {
      "name": "python3",
      "display_name": "Python 3"
    },
    "language_info": {
      "name": "python"
    }
  },
  "cells": [
    {
      "cell_type": "code",
      "source": [
        "print(\"Terceira célula\")"
      ],
      "metadata": {
        "colab": {
          "base_uri": "https://localhost:8080/"
        },
        "id": "dF-26ILBGeRA",
        "outputId": "e0e22176-7e3a-49d7-a014-77fa37dfca00"
      },
      "execution_count": 1,
      "outputs": [
        {
          "output_type": "stream",
          "name": "stdout",
          "text": [
            "Terceira célula\n"
          ]
        }
      ]
    },
    {
      "cell_type": "code",
      "source": [
        "print(\"Segunda célula\")"
      ],
      "metadata": {
        "colab": {
          "base_uri": "https://localhost:8080/"
        },
        "id": "SICTCZRTGE4s",
        "outputId": "ca8c42f5-bbb5-4eeb-88a2-7fd396c2f9b9"
      },
      "execution_count": 2,
      "outputs": [
        {
          "output_type": "stream",
          "name": "stdout",
          "text": [
            "Segunda célula\n"
          ]
        }
      ]
    },
    {
      "cell_type": "code",
      "execution_count": 3,
      "metadata": {
        "colab": {
          "base_uri": "https://localhost:8080/"
        },
        "id": "0iSYBdiMErf5",
        "outputId": "280543a7-0fb3-4bf3-b730-ce5f8ddb9ee0"
      },
      "outputs": [
        {
          "output_type": "stream",
          "name": "stdout",
          "text": [
            "Olá, mundo!\n",
            "Meu nome é AC\n"
          ]
        }
      ],
      "source": [
        "print(\"Olá, mundo!\")\n",
        "print(\"Meu nome é AC\")"
      ]
    },
    {
      "cell_type": "code",
      "source": [
        "# Operadores Aritméticos\n",
        "\n",
        "# Operação de adição\n",
        "1 + 1"
      ],
      "metadata": {
        "colab": {
          "base_uri": "https://localhost:8080/"
        },
        "id": "chTKSyhpI0tV",
        "outputId": "9221d65c-32b1-46c9-d74f-d6fd849a0139"
      },
      "execution_count": 13,
      "outputs": [
        {
          "output_type": "execute_result",
          "data": {
            "text/plain": [
              "2"
            ]
          },
          "metadata": {},
          "execution_count": 13
        }
      ]
    },
    {
      "cell_type": "code",
      "source": [
        "# Multiplicação\n",
        "2 * 3"
      ],
      "metadata": {
        "colab": {
          "base_uri": "https://localhost:8080/"
        },
        "id": "UUf1UaQhJBH7",
        "outputId": "1433dba7-2d97-4743-f047-b2cfcb14f29b"
      },
      "execution_count": 14,
      "outputs": [
        {
          "output_type": "execute_result",
          "data": {
            "text/plain": [
              "6"
            ]
          },
          "metadata": {},
          "execution_count": 14
        }
      ]
    },
    {
      "cell_type": "code",
      "source": [
        "# Divisão\n",
        "10 / 3"
      ],
      "metadata": {
        "colab": {
          "base_uri": "https://localhost:8080/"
        },
        "id": "pMKV_RydKRd5",
        "outputId": "9fe84308-c92d-421f-991c-d5075793f56c"
      },
      "execution_count": 16,
      "outputs": [
        {
          "output_type": "execute_result",
          "data": {
            "text/plain": [
              "3.3333333333333335"
            ]
          },
          "metadata": {},
          "execution_count": 16
        }
      ]
    },
    {
      "cell_type": "code",
      "source": [
        "# Subtração \n",
        "7 - 3"
      ],
      "metadata": {
        "colab": {
          "base_uri": "https://localhost:8080/"
        },
        "id": "G0SO1JIUKX3j",
        "outputId": "01d1af84-b224-41ec-9e64-ad2a28652185"
      },
      "execution_count": 17,
      "outputs": [
        {
          "output_type": "execute_result",
          "data": {
            "text/plain": [
              "4"
            ]
          },
          "metadata": {},
          "execution_count": 17
        }
      ]
    },
    {
      "cell_type": "code",
      "source": [
        "# Potenciação\n",
        "\n",
        "2 ** 3"
      ],
      "metadata": {
        "colab": {
          "base_uri": "https://localhost:8080/"
        },
        "id": "Kn30KwkvKbDn",
        "outputId": "62be2bd2-f424-4896-e475-a495b6fa229f"
      },
      "execution_count": 18,
      "outputs": [
        {
          "output_type": "execute_result",
          "data": {
            "text/plain": [
              "8"
            ]
          },
          "metadata": {},
          "execution_count": 18
        }
      ]
    },
    {
      "cell_type": "code",
      "source": [
        "# Precedencia\n",
        "\n",
        "(2 + 2) * 3"
      ],
      "metadata": {
        "colab": {
          "base_uri": "https://localhost:8080/"
        },
        "id": "e0XXcZyoKpSP",
        "outputId": "009d5d0b-ede5-49c7-82fc-a9ffd033b264"
      },
      "execution_count": 20,
      "outputs": [
        {
          "output_type": "execute_result",
          "data": {
            "text/plain": [
              "12"
            ]
          },
          "metadata": {},
          "execution_count": 20
        }
      ]
    },
    {
      "cell_type": "code",
      "source": [
        "print(\"FIAP\")\n",
        "print('Faculdade')"
      ],
      "metadata": {
        "colab": {
          "base_uri": "https://localhost:8080/"
        },
        "id": "smZyHFv0LbeY",
        "outputId": "f94fd65f-bf35-4f7c-8a96-5d3a844dc472"
      },
      "execution_count": 21,
      "outputs": [
        {
          "output_type": "stream",
          "name": "stdout",
          "text": [
            "FIAP\n",
            "Faculdade\n"
          ]
        }
      ]
    },
    {
      "cell_type": "code",
      "source": [
        "type(\"Um texto\")"
      ],
      "metadata": {
        "colab": {
          "base_uri": "https://localhost:8080/"
        },
        "id": "8lK-t4miLvNC",
        "outputId": "bc7bd5dc-7413-48e6-8dc2-38b4c7f75878"
      },
      "execution_count": 22,
      "outputs": [
        {
          "output_type": "execute_result",
          "data": {
            "text/plain": [
              "str"
            ]
          },
          "metadata": {},
          "execution_count": 22
        }
      ]
    },
    {
      "cell_type": "code",
      "source": [
        "type(10)"
      ],
      "metadata": {
        "colab": {
          "base_uri": "https://localhost:8080/"
        },
        "id": "FfCXGouvL118",
        "outputId": "1203c721-969f-458a-9452-02a5bcc830c1"
      },
      "execution_count": 23,
      "outputs": [
        {
          "output_type": "execute_result",
          "data": {
            "text/plain": [
              "int"
            ]
          },
          "metadata": {},
          "execution_count": 23
        }
      ]
    },
    {
      "cell_type": "code",
      "source": [
        "type(10.0)"
      ],
      "metadata": {
        "colab": {
          "base_uri": "https://localhost:8080/"
        },
        "id": "q3cZcazfL4Ms",
        "outputId": "7e993132-756b-4d1f-f18c-f630fb57d230"
      },
      "execution_count": 24,
      "outputs": [
        {
          "output_type": "execute_result",
          "data": {
            "text/plain": [
              "float"
            ]
          },
          "metadata": {},
          "execution_count": 24
        }
      ]
    },
    {
      "cell_type": "code",
      "source": [
        "# Concatenação\n",
        "\n",
        "print(\"10\" + \"2\")\n",
        "print(\"ABC\" + \"DEF\")\n"
      ],
      "metadata": {
        "colab": {
          "base_uri": "https://localhost:8080/"
        },
        "id": "LdIEC4egMPtj",
        "outputId": "084cb3a0-4546-422b-8b1f-44bc72b5aa25"
      },
      "execution_count": 30,
      "outputs": [
        {
          "output_type": "stream",
          "name": "stdout",
          "text": [
            "102\n",
            "ABCDEF\n"
          ]
        }
      ]
    },
    {
      "cell_type": "code",
      "source": [
        "# Casting (Conversão de tipos de dados)\n",
        "\n",
        "type(int(\"10\"))\n",
        "\n",
        "print(int(\"10\") + int(\"2\"))\n",
        "\n"
      ],
      "metadata": {
        "colab": {
          "base_uri": "https://localhost:8080/"
        },
        "id": "4fSVJRx6M3mN",
        "outputId": "75659484-0cba-42c6-dcbb-bb64fd8a8bfe"
      },
      "execution_count": 33,
      "outputs": [
        {
          "output_type": "stream",
          "name": "stdout",
          "text": [
            "12\n"
          ]
        }
      ]
    },
    {
      "cell_type": "code",
      "source": [
        "# Operadores relacionais\n",
        "\n",
        "print(1 == 2) # False\n",
        "\n",
        "print(1 != 2) # True\n",
        "\n",
        "print (1 < 2 ) # True\n",
        "\n",
        "print (1 > 2 ) # False\n",
        "\n",
        "print (1 <= 2 ) # True\n",
        "print (2 <= 2 ) # True\n",
        "\n",
        "print (1 >= 2 ) # False\n",
        "print (2 >= 2 ) # True"
      ],
      "metadata": {
        "colab": {
          "base_uri": "https://localhost:8080/"
        },
        "id": "D9SGTElwNju6",
        "outputId": "8c6ba84b-d83a-4781-d48a-586d9515140a"
      },
      "execution_count": 39,
      "outputs": [
        {
          "output_type": "stream",
          "name": "stdout",
          "text": [
            "False\n",
            "True\n",
            "True\n",
            "False\n",
            "True\n",
            "True\n",
            "False\n",
            "True\n"
          ]
        }
      ]
    },
    {
      "cell_type": "code",
      "source": [
        "# Operadores lógicos\n",
        "print(not True) # False\n",
        "print(not False) # True\n",
        "\n",
        "# Tabela verdade do AND\n",
        "print(True and True)\n",
        "print(True and False)\n",
        "print(False and True)\n",
        "print(False and False)\n",
        "\n",
        "# Tabela verdade do OR\n",
        "print(True or True)\n",
        "print(True or False)\n",
        "print(False or True)\n",
        "print(False or False)"
      ],
      "metadata": {
        "colab": {
          "base_uri": "https://localhost:8080/"
        },
        "id": "s74lRvFjOZZl",
        "outputId": "f74df8a6-ec8e-4fe4-881d-f7047e49464f"
      },
      "execution_count": 48,
      "outputs": [
        {
          "output_type": "stream",
          "name": "stdout",
          "text": [
            "False\n",
            "True\n",
            "True\n",
            "False\n",
            "False\n",
            "False\n",
            "True\n",
            "True\n",
            "True\n",
            "False\n"
          ]
        }
      ]
    },
    {
      "cell_type": "code",
      "source": [
        "# Sequencia repetidas com dados diferentes = algoritmo\n",
        "\n",
        "nome = \"Antonio Carlos\"\n",
        "sobrenome = \"de Lima Junior\"\n",
        "print(\"O nome completo é \" + nome + \" \" + sobrenome)\n",
        "\n",
        "nome = \"Maria\"\n",
        "sobrenome = \"Silva\"\n",
        "print(\"O nome completo é \" + nome + \" \" + sobrenome)\n",
        "\n",
        "nome = \"Pelé\"\n",
        "sobrenome = \"Nascimento\"\n",
        "print(\"O nome completo é \" + nome + \" \" + sobrenome)\n",
        "\n",
        "idade = 25\n",
        "# type(idade)\n"
      ],
      "metadata": {
        "colab": {
          "base_uri": "https://localhost:8080/"
        },
        "id": "Xy3uBxMPPQGQ",
        "outputId": "7c518381-501d-4eb1-a49e-19b0e7ab3238"
      },
      "execution_count": 59,
      "outputs": [
        {
          "output_type": "stream",
          "name": "stdout",
          "text": [
            "O nome completo é Antonio Carlos de Lima Junior\n",
            "O nome completo é Maria Silva\n",
            "O nome completo é Pelé Nascimento\n"
          ]
        }
      ]
    },
    {
      "cell_type": "code",
      "source": [
        "# função pode receber parâmetros\n",
        "\n",
        "def imprimir_nome_completo(nome, sobrenome):\n",
        "  print(\"O nome completo é \" + nome + \" \" + sobrenome)\n"
      ],
      "metadata": {
        "id": "gIMecWyiQyov"
      },
      "execution_count": 72,
      "outputs": []
    },
    {
      "cell_type": "code",
      "source": [
        "imprimir_nome_completo(\"Antonio Carlos\", \"de Lima Junior\")\n",
        "imprimir_nome_completo(\"Pelé\", \"Arantes\")\n",
        "imprimir_nome_completo(\"Maria\", \"Silva\")"
      ],
      "metadata": {
        "colab": {
          "base_uri": "https://localhost:8080/"
        },
        "id": "pioPrkKyRP1-",
        "outputId": "27816577-ebb8-4528-803f-958a25479429"
      },
      "execution_count": 76,
      "outputs": [
        {
          "output_type": "stream",
          "name": "stdout",
          "text": [
            "O nome completo é Antonio Carlos de Lima Junior\n",
            "O nome completo é Pelé Arantes\n",
            "O nome completo é Maria Silva\n"
          ]
        }
      ]
    },
    {
      "cell_type": "code",
      "source": [],
      "metadata": {
        "id": "uXOtSgtCTyZy"
      },
      "execution_count": null,
      "outputs": []
    }
  ]
}